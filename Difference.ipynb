{
 "cells": [
  {
   "cell_type": "code",
   "execution_count": 18,
   "outputs": [],
   "source": [
    "# This program is developed by Pooyan :D"
   ],
   "metadata": {
    "collapsed": false,
    "pycharm": {
     "name": "#%%\n"
    }
   }
  },
  {
   "cell_type": "code",
   "execution_count": 19,
   "outputs": [],
   "source": [
    "# import libraries\n",
    "import math\n",
    "from prettytable import PrettyTable\n",
    "import matplotlib.pyplot as plt"
   ],
   "metadata": {
    "collapsed": false,
    "pycharm": {
     "name": "#%%\n"
    }
   }
  },
  {
   "cell_type": "code",
   "execution_count": 20,
   "outputs": [],
   "source": [
    "# range of h\n",
    "xAxes = [1, 0.5, 0.25, 0.125, 0.0625]"
   ],
   "metadata": {
    "collapsed": false,
    "pycharm": {
     "name": "#%%\n"
    }
   }
  },
  {
   "cell_type": "code",
   "execution_count": 21,
   "outputs": [],
   "source": [
    "# define functions for first difference\n",
    "def f(x):\n",
    "    return math.sin(3 * x)\n",
    "\n",
    "\n",
    "def forwardFiniteDifference(x, h):\n",
    "    return (f(x + h) - f(x)) / h\n",
    "\n",
    "\n",
    "def centralFiniteDifference(x, h):\n",
    "    return (f(x + h) - f(x - h)) / (2 * h)\n",
    "\n",
    "\n",
    "def realDifference(x):\n",
    "    return 3 * math.cos(3 * x)"
   ],
   "metadata": {
    "collapsed": false,
    "pycharm": {
     "name": "#%%\n"
    }
   }
  },
  {
   "cell_type": "code",
   "execution_count": 22,
   "outputs": [],
   "source": [
    "# define arrays for first difference\n",
    "approximateAnswerFFD = [0] * 5\n",
    "approximateAnswerCFD = [0] * 5\n",
    "calculationErrorFFD = [0] * 5\n",
    "calculationErrorCFD = [0] * 5\n",
    "ratioFFD = [0] * 5\n",
    "ratioCFD = [0] * 5\n",
    "realAnswer = [0] * 5\n",
    "ratioCFD[0] = None\n",
    "ratioFFD[0] = None"
   ],
   "metadata": {
    "collapsed": false,
    "pycharm": {
     "name": "#%%\n"
    }
   }
  },
  {
   "cell_type": "code",
   "execution_count": 23,
   "outputs": [],
   "source": [
    "for i in range(5):\n",
    "    h = (1/2)**i\n",
    "    approximateAnswerFFD[i] = forwardFiniteDifference(2, h)\n",
    "    approximateAnswerCFD[i] = centralFiniteDifference(2, h)\n",
    "    realAnswer[i] = realDifference(2)\n",
    "    calculationErrorFFD[i] = math.fabs(realAnswer[i] - approximateAnswerFFD[i])\n",
    "    calculationErrorCFD[i] = math.fabs(realAnswer[i] - approximateAnswerCFD[i])\n",
    "\n",
    "for i in range(4, 0, -1):\n",
    "    ratioFFD[i] = calculationErrorFFD[i]/calculationErrorFFD[i-1]\n",
    "    ratioCFD[i] = calculationErrorCFD[i]/calculationErrorCFD[i-1]"
   ],
   "metadata": {
    "collapsed": false,
    "pycharm": {
     "name": "#%%\n"
    }
   }
  },
  {
   "cell_type": "code",
   "execution_count": 24,
   "outputs": [
    {
     "name": "stdout",
     "output_type": "stream",
     "text": [
      "[0.6915339834406824, 2.4348309499473295, 2.917838287918174, 2.968809973512829, 2.94201815738226]\n",
      "[0.1354992385909447, 1.915530094439836, 2.6179571344144192, 2.8134719939576383, 2.8636625101568307]\n",
      "[2.880510859951098, 2.880510859951098, 2.880510859951098, 2.880510859951098, 2.880510859951098]\n",
      "[2.1889768765104156, 0.4456799100037685, 0.03732742796707589, 0.08829911356173081, 0.06150729743116212]\n",
      "[2.7450116213601534, 0.9649807655112621, 0.2625537255366788, 0.06703886599345976, 0.016848349794267303]\n",
      "[None, 0.20360192690306286, 0.08375389405988765, 2.365529005631295, 0.6965788777501344]\n",
      "[None, 0.3515397741861341, 0.2720818226854228, 0.2553338973058846, 0.25132211806671984]\n"
     ]
    }
   ],
   "source": [
    "# print arrays\n",
    "print(approximateAnswerFFD)\n",
    "print(approximateAnswerCFD)\n",
    "print(realAnswer)\n",
    "print(calculationErrorFFD)\n",
    "print(calculationErrorCFD)\n",
    "print(ratioFFD)\n",
    "print(ratioCFD)"
   ],
   "metadata": {
    "collapsed": false,
    "pycharm": {
     "name": "#%%\n"
    }
   }
  },
  {
   "cell_type": "code",
   "execution_count": 25,
   "outputs": [
    {
     "name": "stdout",
     "output_type": "stream",
     "text": [
      "+--------+----------------------+----------------------+---------------------+\n",
      "|   h    | approximateAnswerCFD | calculationErrorCFD  |       ratioCFD      |\n",
      "+--------+----------------------+----------------------+---------------------+\n",
      "|  1.0   |  0.1354992385909447  |  2.7450116213601534  |         None        |\n",
      "|  0.5   |  1.915530094439836   |  0.9649807655112621  |  0.3515397741861341 |\n",
      "|  0.25  |  2.6179571344144192  |  0.2625537255366788  |  0.2720818226854228 |\n",
      "| 0.125  |  2.8134719939576383  | 0.06703886599345976  |  0.2553338973058846 |\n",
      "| 0.0625 |  2.8636625101568307  | 0.016848349794267303 | 0.25132211806671984 |\n",
      "+--------+----------------------+----------------------+---------------------+\n"
     ]
    }
   ],
   "source": [
    "# table of CFD\n",
    "t = PrettyTable(['h', 'approximateAnswerCFD', 'calculationErrorCFD', 'ratioCFD'])\n",
    "for i in range(5):\n",
    "    t.add_row([(1/2)**i, approximateAnswerCFD[i], calculationErrorCFD[i], ratioCFD[i]])\n",
    "print(t)"
   ],
   "metadata": {
    "collapsed": false,
    "pycharm": {
     "name": "#%%\n"
    }
   }
  },
  {
   "cell_type": "code",
   "execution_count": 26,
   "outputs": [
    {
     "name": "stdout",
     "output_type": "stream",
     "text": [
      "+--------+----------------------+---------------------+---------------------+\n",
      "|   h    | approximateAnswerFFD | calculationErrorFFD |       ratioFFD      |\n",
      "+--------+----------------------+---------------------+---------------------+\n",
      "|  1.0   |  0.6915339834406824  |  2.1889768765104156 |         None        |\n",
      "|  0.5   |  2.4348309499473295  |  0.4456799100037685 | 0.20360192690306286 |\n",
      "|  0.25  |  2.917838287918174   | 0.03732742796707589 | 0.08375389405988765 |\n",
      "| 0.125  |  2.968809973512829   | 0.08829911356173081 |  2.365529005631295  |\n",
      "| 0.0625 |   2.94201815738226   | 0.06150729743116212 |  0.6965788777501344 |\n",
      "+--------+----------------------+---------------------+---------------------+\n"
     ]
    }
   ],
   "source": [
    "# table of FFD\n",
    "t = PrettyTable(['h', 'approximateAnswerFFD', 'calculationErrorFFD', 'ratioFFD'])\n",
    "for i in range(5):\n",
    "    t.add_row([(1/2)**i, approximateAnswerFFD[i], calculationErrorFFD[i], ratioFFD[i]])\n",
    "print(t)"
   ],
   "metadata": {
    "collapsed": false,
    "pycharm": {
     "name": "#%%\n"
    }
   }
  },
  {
   "cell_type": "code",
   "execution_count": 27,
   "outputs": [
    {
     "data": {
      "text/plain": "<Figure size 640x480 with 1 Axes>",
      "image/png": "[encoded data removed]"
     },
     "metadata": {},
     "output_type": "display_data"
    }
   ],
   "source": [
    "# plot of calculation error DDF\n",
    "plt.plot(xAxes, calculationErrorFFD, color='green')\n",
    "plt.title('plot of calculation error FFD', color='orange')\n",
    "plt.show()"
   ],
   "metadata": {
    "collapsed": false,
    "pycharm": {
     "name": "#%%\n"
    }
   }
  },
  {
   "cell_type": "code",
   "execution_count": 28,
   "outputs": [
    {
     "data": {
      "text/plain": "<Figure size 640x480 with 1 Axes>",
      "image/png": "[encoded data removed]"
     },
     "metadata": {},
     "output_type": "display_data"
    }
   ],
   "source": [
    "# plot of calculation error DDF\n",
    "plt.plot(xAxes, calculationErrorCFD, color='green')\n",
    "plt.title('plot of calculation error CDF', color='orange')\n",
    "plt.show()"
   ],
   "metadata": {
    "collapsed": false,
    "pycharm": {
     "name": "#%%\n"
    }
   }
  },
  {
   "cell_type": "code",
   "execution_count": 29,
   "outputs": [],
   "source": [
    "# define functions for second difference\n",
    "def secondApproximateDifference(x, h):\n",
    "    return (f(x+h) - 2*f(x) + f(x-h)) / h**2\n",
    "\n",
    "\n",
    "def realSecondDifference(x):\n",
    "    return -9 * math.sin(3 * x)"
   ],
   "metadata": {
    "collapsed": false,
    "pycharm": {
     "name": "#%%\n"
    }
   }
  },
  {
   "cell_type": "code",
   "execution_count": 30,
   "outputs": [],
   "source": [
    "# define arrays for second difference\n",
    "approximateAnswerSD = [0] * 5\n",
    "calculationErrorSD = [0] * 5\n",
    "ratioSD = [0] * 5\n",
    "realSD = [0] * 5\n",
    "ratioSD[0] = None"
   ],
   "metadata": {
    "collapsed": false,
    "pycharm": {
     "name": "#%%\n"
    }
   }
  },
  {
   "cell_type": "code",
   "execution_count": 31,
   "outputs": [],
   "source": [
    "for i in range(5):\n",
    "    h = (1/2)**i\n",
    "    approximateAnswerSD[i] = secondApproximateDifference(2, h)\n",
    "    realSD[i] = realSecondDifference(2)\n",
    "    calculationErrorSD[i] = math.fabs(realSD[i] - approximateAnswerSD[i])\n",
    "\n",
    "for i in range(4, 0, -1):\n",
    "    ratioSD[i] = calculationErrorSD[i]/calculationErrorSD[i-1]"
   ],
   "metadata": {
    "collapsed": false,
    "pycharm": {
     "name": "#%%\n"
    }
   }
  },
  {
   "cell_type": "code",
   "execution_count": 32,
   "outputs": [
    {
     "name": "stdout",
     "output_type": "stream",
     "text": [
      "[1.1120694896994754, 2.0772034220299744, 2.399049228030039, 2.485407672883049, 2.5073807112137416]\n",
      "[2.5147394837903327, 2.5147394837903327, 2.5147394837903327, 2.5147394837903327, 2.5147394837903327]\n",
      "[1.4026699940908574, 0.4375360617603583, 0.11569025576029368, 0.02933181090728354, 0.007358772576591122]\n",
      "[None, 0.31193086299956674, 0.2644130755641762, 0.25353743679206714, 0.2508802678379406]\n"
     ]
    }
   ],
   "source": [
    "# print arrays\n",
    "print(approximateAnswerSD)\n",
    "print(realSD)\n",
    "print(calculationErrorSD)\n",
    "print(ratioSD)"
   ],
   "metadata": {
    "collapsed": false,
    "pycharm": {
     "name": "#%%\n"
    }
   }
  },
  {
   "cell_type": "code",
   "execution_count": 33,
   "outputs": [
    {
     "name": "stdout",
     "output_type": "stream",
     "text": [
      "+--------+---------------------+----------------------+---------------------+\n",
      "|   h    | approximateAnswerSD |  calculationErrorSD  |       ratioSD       |\n",
      "+--------+---------------------+----------------------+---------------------+\n",
      "|  1.0   |  1.1120694896994754 |  1.4026699940908574  |         None        |\n",
      "|  0.5   |  2.0772034220299744 |  0.4375360617603583  | 0.31193086299956674 |\n",
      "|  0.25  |  2.399049228030039  | 0.11569025576029368  |  0.2644130755641762 |\n",
      "| 0.125  |  2.485407672883049  | 0.02933181090728354  | 0.25353743679206714 |\n",
      "| 0.0625 |  2.5073807112137416 | 0.007358772576591122 |  0.2508802678379406 |\n",
      "+--------+---------------------+----------------------+---------------------+\n"
     ]
    }
   ],
   "source": [
    "# table of SD\n",
    "t = PrettyTable(['h', 'approximateAnswerSD', 'calculationErrorSD', 'ratioSD'])\n",
    "for i in range(5):\n",
    "    t.add_row([(1/2)**i, approximateAnswerSD[i], calculationErrorSD[i], ratioSD[i]])\n",
    "print(t)"
   ],
   "metadata": {
    "collapsed": false,
    "pycharm": {
     "name": "#%%\n"
    }
   }
  },
  {
   "cell_type": "code",
   "execution_count": 34,
   "outputs": [
    {
     "data": {
      "text/plain": "<Figure size 640x480 with 1 Axes>",
      "image/png": "[encoded data removed]"
     },
     "metadata": {},
     "output_type": "display_data"
    }
   ],
   "source": [
    "# plot of calculation error SD\n",
    "plt.plot(xAxes, calculationErrorSD, color='green')\n",
    "plt.title('plot of calculation error SD', color='orange')\n",
    "plt.show()"
   ],
   "metadata": {
    "collapsed": false,
    "pycharm": {
     "name": "#%%\n"
    }
   }
  },
  {
   "cell_type": "code",
   "execution_count": 35,
   "outputs": [],
   "source": [
    "# Hope you like it ;)"
   ],
   "metadata": {
    "collapsed": false,
    "pycharm": {
     "name": "#%%\n"
    }
   }
  }
 ],
 "metadata": {
  "kernelspec": {
   "display_name": "Python 3",
   "language": "python",
   "name": "python3"
  },
  "language_info": {
   "codemirror_mode": {
    "name": "ipython",
    "version": 2
   },
   "file_extension": ".py",
   "mimetype": "text/x-python",
   "name": "python",
   "nbconvert_exporter": "python",
   "pygments_lexer": "ipython2",
   "version": "2.7.6"
  }
 },
 "nbformat": 4,
 "nbformat_minor": 0
}