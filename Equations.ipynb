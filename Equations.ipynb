{
 "cells": [
  {
   "cell_type": "code",
   "execution_count": 7,
   "outputs": [],
   "source": [
    "# This program is developed by Pooyan :D"
   ],
   "metadata": {
    "collapsed": false,
    "pycharm": {
     "name": "#%%\n"
    }
   }
  },
  {
   "cell_type": "code",
   "execution_count": 8,
   "outputs": [],
   "source": [
    "import math\n",
    "\n",
    "from sympy import *"
   ],
   "metadata": {
    "collapsed": false,
    "pycharm": {
     "name": "#%%\n"
    }
   }
  },
  {
   "cell_type": "code",
   "execution_count": null,
   "outputs": [],
   "source": [
    "y0 = 20\n",
    "y4 = 25"
   ],
   "metadata": {
    "collapsed": false,
    "pycharm": {
     "name": "#%%\n"
    }
   }
  },
  {
   "cell_type": "markdown",
   "source": [
    "As professor said we should calculate approximate value by the formula and in this way by using sympy the answer will be like this:"
   ],
   "metadata": {
    "collapsed": false,
    "pycharm": {
     "name": "#%% md\n"
    }
   }
  },
  {
   "cell_type": "code",
   "execution_count": 10,
   "outputs": [
    {
     "name": "stderr",
     "output_type": "stream",
     "text": [
      "C:\\Users\\Lenovo\\AppData\\Local\\Temp\\ipykernel_9508\\3317720827.py:2: SymPyDeprecationWarning: \n",
      "\n",
      "Eq(expr) with a single argument with the right-hand side\n",
      "defaulting to 0 is deprecated. Use Eq(expr, 0) instead.\n",
      "\n",
      "See https://docs.sympy.org/latest/explanation/active-deprecations.html#deprecated-eq-expr\n",
      "for details.\n",
      "\n",
      "This has been deprecated since SymPy version 1.5. It\n",
      "will be removed in a future version of SymPy.\n",
      "\n",
      "  solve([Eq((math.sqrt(1.25) + (0.25 * (y2 - 20)/0.5) - ((y2 - (2*y1) + 20) / 0.25 ** 2)), y1), Eq((math.sqrt(1.5) + (0.5 * (y3 - y1) / 0.5) - ((y3 - 2*y2 + y1) / 0.25**2)), y2) , Eq((math.sqrt(1.75) + (0.75 * (25 - y2) / 0.5) - ((25 - 2*y3 + y2) / 0.25**2)))])\n"
     ]
    },
    {
     "data": {
      "text/plain": "{y1: 22.7946837411659, y2: 24.3711761267673, y3: 24.6147720800905}"
     },
     "execution_count": 10,
     "metadata": {},
     "output_type": "execute_result"
    }
   ],
   "source": [
    "y1, y2, y3 = symbols('y1 y2 y3')\n",
    "solve([Eq((math.sqrt(1.25) + (0.25 * (y2 - 20)/0.5) - ((y2 - (2*y1) + 20) / 0.25 ** 2)), y1), Eq((math.sqrt(1.5) + (0.5 * (y3 - y1) / 0.5) - ((y3 - 2*y2 + y1) / 0.25**2)), y2) , Eq((math.sqrt(1.75) + (0.75 * (25 - y2) / 0.5) - ((25 - 2*y3 + y2) / 0.25**2)))])"
   ],
   "metadata": {
    "collapsed": false,
    "pycharm": {
     "name": "#%%\n"
    }
   }
  },
  {
   "cell_type": "code",
   "execution_count": 11,
   "outputs": [],
   "source": [
    "# Hope you like it ;)"
   ],
   "metadata": {
    "collapsed": false,
    "pycharm": {
     "name": "#%%\n"
    }
   }
  }
 ],
 "metadata": {
  "kernelspec": {
   "display_name": "Python 3",
   "language": "python",
   "name": "python3"
  },
  "language_info": {
   "codemirror_mode": {
    "name": "ipython",
    "version": 2
   },
   "file_extension": ".py",
   "mimetype": "text/x-python",
   "name": "python",
   "nbconvert_exporter": "python",
   "pygments_lexer": "ipython2",
   "version": "2.7.6"
  }
 },
 "nbformat": 4,
 "nbformat_minor": 0
}