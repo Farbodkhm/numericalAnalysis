{
 "cells": [
  {
   "cell_type": "code",
   "execution_count": 122,
   "outputs": [],
   "source": [
    "#This code is developed by Pooyan :D"
   ],
   "metadata": {
    "collapsed": false,
    "pycharm": {
     "name": "#%%\n"
    }
   }
  },
  {
   "cell_type": "markdown",
   "source": [
    "# Assignment Tittle\n",
    "__Author__ : Pooyan oskouhi 400222003\n",
    "__Course__ : Undergraduate Numerical Analysis Course"
   ],
   "metadata": {
    "collapsed": false,
    "pycharm": {
     "name": "#%% md\n"
    }
   }
  },
  {
   "cell_type": "code",
   "execution_count": 123,
   "outputs": [],
   "source": [
    "import numpy as np\n",
    "import pandas as pd\n",
    "import matplotlib.pyplot as plt"
   ],
   "metadata": {
    "collapsed": false,
    "pycharm": {
     "name": "#%%\n"
    }
   }
  },
  {
   "cell_type": "markdown",
   "source": [
    "# Numpy Problems :"
   ],
   "metadata": {
    "collapsed": false,
    "pycharm": {
     "name": "#%% md\n"
    }
   }
  },
  {
   "cell_type": "markdown",
   "source": [
    "# Part a:\n",
    "Shape of file in numpy."
   ],
   "metadata": {
    "collapsed": false,
    "pycharm": {
     "name": "#%% md\n"
    }
   }
  },
  {
   "cell_type": "markdown",
   "source": [
    "# Solution\n",
    "Use function __shape__."
   ],
   "metadata": {
    "collapsed": false,
    "pycharm": {
     "name": "#%% md\n"
    }
   }
  },
  {
   "cell_type": "code",
   "execution_count": 124,
   "outputs": [
    {
     "name": "stdout",
     "output_type": "stream",
     "text": [
      "(51, 3)\n"
     ]
    }
   ],
   "source": [
    "df = pd.read_csv('tempratures.csv')\n",
    "arr = np.array(df)\n",
    "print(arr.shape)"
   ],
   "metadata": {
    "collapsed": false,
    "pycharm": {
     "name": "#%%\n"
    }
   }
  },
  {
   "cell_type": "code",
   "execution_count": 125,
   "outputs": [
    {
     "data": {
      "text/plain": "array([['2022-01-01', 'New York', 0.5],\n       ['2022-01-01', 'Los Angeles', 20.5],\n       ['2022-01-01', 'Miami', 24.7],\n       ['2022-01-02', 'New York', 2.3],\n       ['2022-01-02', 'Los Angeles', 18.4],\n       ['2022-01-02', 'Miami', 22.9],\n       ['2022-01-03', 'New York', 4.8],\n       ['2022-01-03', 'Los Angeles', 15.9],\n       ['2022-01-03', 'Miami', 21.2],\n       ['2022-01-04', 'New York', 3.2],\n       ['2022-01-04', 'Los Angeles', 16.1],\n       ['2022-01-04', 'Miami', 23.5],\n       ['2022-01-05', 'New York', -1.9],\n       ['2022-01-05', 'Los Angeles', 22.8],\n       ['2022-01-05', 'Miami', 20.1],\n       ['2022-01-06', 'New York', -2.1],\n       ['2022-01-06', 'Los Angeles', 23.5],\n       ['2022-01-06', 'Miami', 25.3],\n       ['2022-01-07', 'New York', 1.3],\n       ['2022-01-07', 'Los Angeles', 20.3],\n       ['2022-01-07', 'Miami', 21.8],\n       ['2022-01-08', 'New York', 4.2],\n       ['2022-01-08', 'Los Angeles', 19.7],\n       ['2022-01-08', 'Miami', 22.4],\n       ['2022-01-09', 'New York', 5.8],\n       ['2022-01-09', 'Los Angeles', 18.8],\n       ['2022-01-09', 'Miami', 20.5],\n       ['2022-01-10', 'New York', -1.1],\n       ['2022-01-10', 'Los Angeles', 22.1],\n       ['2022-01-10', 'Miami', 23.1],\n       ['2022-01-11', 'New York', -4.6],\n       ['2022-01-11', 'Los Angeles', 21.2],\n       ['2022-01-11', 'Miami', 25.8],\n       ['2022-01-12', 'New York', -7.3],\n       ['2022-01-12', 'Los Angeles', 24.4],\n       ['2022-01-12', 'Miami', 22.6],\n       ['2022-01-13', 'New York', -2.4],\n       ['2022-01-13', 'Los Angeles', 20.1],\n       ['2022-01-13', 'Miami', 19.7],\n       ['2022-01-14', 'New York', 1.5],\n       ['2022-01-14', 'Los Angeles', 21.5],\n       ['2022-01-14', 'Miami', 20.2],\n       ['2022-01-15', 'New York', 2.1],\n       ['2022-01-15', 'Los Angeles', 18.6],\n       ['2022-01-15', 'Miami', 21.5],\n       ['2022-01-16', 'New York', -0.9],\n       ['2022-01-16', 'Los Angeles', 23.8],\n       ['2022-01-16', 'Miami', 23.9],\n       ['2022-01-17', 'New York', -2.7],\n       ['2022-01-17', 'Los Angeles', 21.3],\n       ['2022-01-17', 'Miami', 25.3]], dtype=object)"
     },
     "execution_count": 125,
     "metadata": {},
     "output_type": "execute_result"
    }
   ],
   "source": [
    "arr"
   ],
   "metadata": {
    "collapsed": false,
    "pycharm": {
     "name": "#%%\n"
    }
   }
  },
  {
   "cell_type": "markdown",
   "source": [
    "# Part b:\n",
    "Find the average temperature for each city."
   ],
   "metadata": {
    "collapsed": false,
    "pycharm": {
     "name": "#%% md\n"
    }
   }
  },
  {
   "cell_type": "markdown",
   "source": [
    "# Solution\n",
    "We sum all the elements that relate to a city and divide to number of days."
   ],
   "metadata": {
    "collapsed": false,
    "pycharm": {
     "name": "#%% md\n"
    }
   }
  },
  {
   "cell_type": "code",
   "execution_count": 126,
   "outputs": [
    {
     "data": {
      "text/plain": "0.225"
     },
     "execution_count": 126,
     "metadata": {},
     "output_type": "execute_result"
    }
   ],
   "source": [
    "sumNY = 0\n",
    "for i in range(0, 51, 3):\n",
    "    sumNY += arr[i][2]\n",
    "sumNY/12"
   ],
   "metadata": {
    "collapsed": false,
    "pycharm": {
     "name": "#%%\n"
    }
   }
  },
  {
   "cell_type": "code",
   "execution_count": 127,
   "outputs": [
    {
     "data": {
      "text/plain": "29.08333333333334"
     },
     "execution_count": 127,
     "metadata": {},
     "output_type": "execute_result"
    }
   ],
   "source": [
    "sumLA = 0\n",
    "for i in range(1, 51, 3):\n",
    "    sumLA += arr[i][2]\n",
    "sumLA/12"
   ],
   "metadata": {
    "collapsed": false,
    "pycharm": {
     "name": "#%%\n"
    }
   }
  },
  {
   "cell_type": "code",
   "execution_count": 128,
   "outputs": [
    {
     "data": {
      "text/plain": "32.041666666666664"
     },
     "execution_count": 128,
     "metadata": {},
     "output_type": "execute_result"
    }
   ],
   "source": [
    "sumMiami = 0\n",
    "for i in range(2, 52, 3):\n",
    "    sumMiami += arr[i][2]\n",
    "sumMiami/12"
   ],
   "metadata": {
    "collapsed": false,
    "pycharm": {
     "name": "#%%\n"
    }
   }
  },
  {
   "cell_type": "markdown",
   "source": [
    "# Part c:\n",
    "Find maximum temperature for each city."
   ],
   "metadata": {
    "collapsed": false,
    "pycharm": {
     "name": "#%% md\n"
    }
   }
  },
  {
   "cell_type": "markdown",
   "source": [
    "# Solution\n",
    "For each city find the maximum."
   ],
   "metadata": {
    "collapsed": false,
    "pycharm": {
     "name": "#%% md\n"
    }
   }
  },
  {
   "cell_type": "code",
   "execution_count": 129,
   "outputs": [
    {
     "data": {
      "text/plain": "5.8"
     },
     "execution_count": 129,
     "metadata": {},
     "output_type": "execute_result"
    }
   ],
   "source": [
    "maxNY = 0\n",
    "for i in range(0, 51, 3):\n",
    "    if maxNY < arr[i][2]:\n",
    "        maxNY = arr[i][2]\n",
    "maxNY"
   ],
   "metadata": {
    "collapsed": false,
    "pycharm": {
     "name": "#%%\n"
    }
   }
  },
  {
   "cell_type": "code",
   "execution_count": 130,
   "outputs": [
    {
     "data": {
      "text/plain": "24.4"
     },
     "execution_count": 130,
     "metadata": {},
     "output_type": "execute_result"
    }
   ],
   "source": [
    "maxLA = 0\n",
    "for i in range(1, 51, 3):\n",
    "    if maxLA < arr[i][2]:\n",
    "        maxLA = arr[i][2]\n",
    "maxLA"
   ],
   "metadata": {
    "collapsed": false,
    "pycharm": {
     "name": "#%%\n"
    }
   }
  },
  {
   "cell_type": "code",
   "execution_count": 131,
   "outputs": [
    {
     "data": {
      "text/plain": "25.8"
     },
     "execution_count": 131,
     "metadata": {},
     "output_type": "execute_result"
    }
   ],
   "source": [
    "maxMiami = 0\n",
    "for i in range(2, 52, 3):\n",
    "    if maxMiami < arr[i][2]:\n",
    "        maxMiami = arr[i][2]\n",
    "maxMiami"
   ],
   "metadata": {
    "collapsed": false,
    "pycharm": {
     "name": "#%%\n"
    }
   }
  },
  {
   "cell_type": "markdown",
   "source": [
    "# Pandas Problems :"
   ],
   "metadata": {
    "collapsed": false,
    "pycharm": {
     "name": "#%% md\n"
    }
   }
  },
  {
   "cell_type": "markdown",
   "source": [
    "# Part a:\n",
    "Shape of file in pandas"
   ],
   "metadata": {
    "collapsed": false,
    "pycharm": {
     "name": "#%% md\n"
    }
   }
  },
  {
   "cell_type": "markdown",
   "source": [
    "# Solution\n",
    "We use function __read_csv__ to read the data and after that use __shape__ to show th shape."
   ],
   "metadata": {
    "collapsed": false,
    "pycharm": {
     "name": "#%% md\n"
    }
   }
  },
  {
   "cell_type": "code",
   "execution_count": 132,
   "outputs": [
    {
     "data": {
      "text/plain": "          date         city temperature\n0   2022-01-01     New York         0.5\n1   2022-01-01  Los Angeles        20.5\n2   2022-01-01        Miami        24.7\n3   2022-01-02     New York         2.3\n4   2022-01-02  Los Angeles        18.4\n5   2022-01-02        Miami        22.9\n6   2022-01-03     New York         4.8\n7   2022-01-03  Los Angeles        15.9\n8   2022-01-03        Miami        21.2\n9   2022-01-04     New York         3.2\n10  2022-01-04  Los Angeles        16.1\n11  2022-01-04        Miami        23.5\n12  2022-01-05     New York        -1.9\n13  2022-01-05  Los Angeles        22.8\n14  2022-01-05        Miami        20.1\n15  2022-01-06     New York        -2.1\n16  2022-01-06  Los Angeles        23.5\n17  2022-01-06        Miami        25.3\n18  2022-01-07     New York         1.3\n19  2022-01-07  Los Angeles        20.3\n20  2022-01-07        Miami        21.8\n21  2022-01-08     New York         4.2\n22  2022-01-08  Los Angeles        19.7\n23  2022-01-08        Miami        22.4\n24  2022-01-09     New York         5.8\n25  2022-01-09  Los Angeles        18.8\n26  2022-01-09        Miami        20.5\n27  2022-01-10     New York        -1.1\n28  2022-01-10  Los Angeles        22.1\n29  2022-01-10        Miami        23.1\n30  2022-01-11     New York        -4.6\n31  2022-01-11  Los Angeles        21.2\n32  2022-01-11        Miami        25.8\n33  2022-01-12     New York        -7.3\n34  2022-01-12  Los Angeles        24.4\n35  2022-01-12        Miami        22.6\n36  2022-01-13     New York        -2.4\n37  2022-01-13  Los Angeles        20.1\n38  2022-01-13        Miami        19.7\n39  2022-01-14     New York         1.5\n40  2022-01-14  Los Angeles        21.5\n41  2022-01-14        Miami        20.2\n42  2022-01-15     New York         2.1\n43  2022-01-15  Los Angeles        18.6\n44  2022-01-15        Miami        21.5\n45  2022-01-16     New York        -0.9\n46  2022-01-16  Los Angeles        23.8\n47  2022-01-16        Miami        23.9\n48  2022-01-17     New York        -2.7\n49  2022-01-17  Los Angeles        21.3\n50  2022-01-17        Miami        25.3",
      "text/html": "<div>\n<style scoped>\n    .dataframe tbody tr th:only-of-type {\n        vertical-align: middle;\n    }\n\n    .dataframe tbody tr th {\n        vertical-align: top;\n    }\n\n    .dataframe thead th {\n        text-align: right;\n    }\n</style>\n<table border=\"1\" class=\"dataframe\">\n  <thead>\n    <tr style=\"text-align: right;\">\n      <th></th>\n      <th>date</th>\n      <th>city</th>\n      <th>temperature</th>\n    </tr>\n  </thead>\n  <tbody>\n    <tr>\n      <th>0</th>\n      <td>2022-01-01</td>\n      <td>New York</td>\n      <td>0.5</td>\n    </tr>\n    <tr>\n      <th>1</th>\n      <td>2022-01-01</td>\n      <td>Los Angeles</td>\n      <td>20.5</td>\n    </tr>\n    <tr>\n      <th>2</th>\n      <td>2022-01-01</td>\n      <td>Miami</td>\n      <td>24.7</td>\n    </tr>\n    <tr>\n      <th>3</th>\n      <td>2022-01-02</td>\n      <td>New York</td>\n      <td>2.3</td>\n    </tr>\n    <tr>\n      <th>4</th>\n      <td>2022-01-02</td>\n      <td>Los Angeles</td>\n      <td>18.4</td>\n    </tr>\n    <tr>\n      <th>5</th>\n      <td>2022-01-02</td>\n      <td>Miami</td>\n      <td>22.9</td>\n    </tr>\n    <tr>\n      <th>6</th>\n      <td>2022-01-03</td>\n      <td>New York</td>\n      <td>4.8</td>\n    </tr>\n    <tr>\n      <th>7</th>\n      <td>2022-01-03</td>\n      <td>Los Angeles</td>\n      <td>15.9</td>\n    </tr>\n    <tr>\n      <th>8</th>\n      <td>2022-01-03</td>\n      <td>Miami</td>\n      <td>21.2</td>\n    </tr>\n    <tr>\n      <th>9</th>\n      <td>2022-01-04</td>\n      <td>New York</td>\n      <td>3.2</td>\n    </tr>\n    <tr>\n      <th>10</th>\n      <td>2022-01-04</td>\n      <td>Los Angeles</td>\n      <td>16.1</td>\n    </tr>\n    <tr>\n      <th>11</th>\n      <td>2022-01-04</td>\n      <td>Miami</td>\n      <td>23.5</td>\n    </tr>\n    <tr>\n      <th>12</th>\n      <td>2022-01-05</td>\n      <td>New York</td>\n      <td>-1.9</td>\n    </tr>\n    <tr>\n      <th>13</th>\n      <td>2022-01-05</td>\n      <td>Los Angeles</td>\n      <td>22.8</td>\n    </tr>\n    <tr>\n      <th>14</th>\n      <td>2022-01-05</td>\n      <td>Miami</td>\n      <td>20.1</td>\n    </tr>\n    <tr>\n      <th>15</th>\n      <td>2022-01-06</td>\n      <td>New York</td>\n      <td>-2.1</td>\n    </tr>\n    <tr>\n      <th>16</th>\n      <td>2022-01-06</td>\n      <td>Los Angeles</td>\n      <td>23.5</td>\n    </tr>\n    <tr>\n      <th>17</th>\n      <td>2022-01-06</td>\n      <td>Miami</td>\n      <td>25.3</td>\n    </tr>\n    <tr>\n      <th>18</th>\n      <td>2022-01-07</td>\n      <td>New York</td>\n      <td>1.3</td>\n    </tr>\n    <tr>\n      <th>19</th>\n      <td>2022-01-07</td>\n      <td>Los Angeles</td>\n      <td>20.3</td>\n    </tr>\n    <tr>\n      <th>20</th>\n      <td>2022-01-07</td>\n      <td>Miami</td>\n      <td>21.8</td>\n    </tr>\n    <tr>\n      <th>21</th>\n      <td>2022-01-08</td>\n      <td>New York</td>\n      <td>4.2</td>\n    </tr>\n    <tr>\n      <th>22</th>\n      <td>2022-01-08</td>\n      <td>Los Angeles</td>\n      <td>19.7</td>\n    </tr>\n    <tr>\n      <th>23</th>\n      <td>2022-01-08</td>\n      <td>Miami</td>\n      <td>22.4</td>\n    </tr>\n    <tr>\n      <th>24</th>\n      <td>2022-01-09</td>\n      <td>New York</td>\n      <td>5.8</td>\n    </tr>\n    <tr>\n      <th>25</th>\n      <td>2022-01-09</td>\n      <td>Los Angeles</td>\n      <td>18.8</td>\n    </tr>\n    <tr>\n      <th>26</th>\n      <td>2022-01-09</td>\n      <td>Miami</td>\n      <td>20.5</td>\n    </tr>\n    <tr>\n      <th>27</th>\n      <td>2022-01-10</td>\n      <td>New York</td>\n      <td>-1.1</td>\n    </tr>\n    <tr>\n      <th>28</th>\n      <td>2022-01-10</td>\n      <td>Los Angeles</td>\n      <td>22.1</td>\n    </tr>\n    <tr>\n      <th>29</th>\n      <td>2022-01-10</td>\n      <td>Miami</td>\n      <td>23.1</td>\n    </tr>\n    <tr>\n      <th>30</th>\n      <td>2022-01-11</td>\n      <td>New York</td>\n      <td>-4.6</td>\n    </tr>\n    <tr>\n      <th>31</th>\n      <td>2022-01-11</td>\n      <td>Los Angeles</td>\n      <td>21.2</td>\n    </tr>\n    <tr>\n      <th>32</th>\n      <td>2022-01-11</td>\n      <td>Miami</td>\n      <td>25.8</td>\n    </tr>\n    <tr>\n      <th>33</th>\n      <td>2022-01-12</td>\n      <td>New York</td>\n      <td>-7.3</td>\n    </tr>\n    <tr>\n      <th>34</th>\n      <td>2022-01-12</td>\n      <td>Los Angeles</td>\n      <td>24.4</td>\n    </tr>\n    <tr>\n      <th>35</th>\n      <td>2022-01-12</td>\n      <td>Miami</td>\n      <td>22.6</td>\n    </tr>\n    <tr>\n      <th>36</th>\n      <td>2022-01-13</td>\n      <td>New York</td>\n      <td>-2.4</td>\n    </tr>\n    <tr>\n      <th>37</th>\n      <td>2022-01-13</td>\n      <td>Los Angeles</td>\n      <td>20.1</td>\n    </tr>\n    <tr>\n      <th>38</th>\n      <td>2022-01-13</td>\n      <td>Miami</td>\n      <td>19.7</td>\n    </tr>\n    <tr>\n      <th>39</th>\n      <td>2022-01-14</td>\n      <td>New York</td>\n      <td>1.5</td>\n    </tr>\n    <tr>\n      <th>40</th>\n      <td>2022-01-14</td>\n      <td>Los Angeles</td>\n      <td>21.5</td>\n    </tr>\n    <tr>\n      <th>41</th>\n      <td>2022-01-14</td>\n      <td>Miami</td>\n      <td>20.2</td>\n    </tr>\n    <tr>\n      <th>42</th>\n      <td>2022-01-15</td>\n      <td>New York</td>\n      <td>2.1</td>\n    </tr>\n    <tr>\n      <th>43</th>\n      <td>2022-01-15</td>\n      <td>Los Angeles</td>\n      <td>18.6</td>\n    </tr>\n    <tr>\n      <th>44</th>\n      <td>2022-01-15</td>\n      <td>Miami</td>\n      <td>21.5</td>\n    </tr>\n    <tr>\n      <th>45</th>\n      <td>2022-01-16</td>\n      <td>New York</td>\n      <td>-0.9</td>\n    </tr>\n    <tr>\n      <th>46</th>\n      <td>2022-01-16</td>\n      <td>Los Angeles</td>\n      <td>23.8</td>\n    </tr>\n    <tr>\n      <th>47</th>\n      <td>2022-01-16</td>\n      <td>Miami</td>\n      <td>23.9</td>\n    </tr>\n    <tr>\n      <th>48</th>\n      <td>2022-01-17</td>\n      <td>New York</td>\n      <td>-2.7</td>\n    </tr>\n    <tr>\n      <th>49</th>\n      <td>2022-01-17</td>\n      <td>Los Angeles</td>\n      <td>21.3</td>\n    </tr>\n    <tr>\n      <th>50</th>\n      <td>2022-01-17</td>\n      <td>Miami</td>\n      <td>25.3</td>\n    </tr>\n  </tbody>\n</table>\n</div>"
     },
     "execution_count": 132,
     "metadata": {},
     "output_type": "execute_result"
    }
   ],
   "source": [
    "df = pd.read_csv('tempratures.csv', dtype=object)\n",
    "df"
   ],
   "metadata": {
    "collapsed": false,
    "pycharm": {
     "name": "#%%\n"
    }
   }
  },
  {
   "cell_type": "code",
   "execution_count": 133,
   "outputs": [
    {
     "data": {
      "text/plain": "(51, 3)"
     },
     "execution_count": 133,
     "metadata": {},
     "output_type": "execute_result"
    }
   ],
   "source": [
    "df.shape"
   ],
   "metadata": {
    "collapsed": false,
    "pycharm": {
     "name": "#%%\n"
    }
   }
  },
  {
   "cell_type": "code",
   "execution_count": 134,
   "outputs": [
    {
     "data": {
      "text/plain": "              date      city temperature\ncount           51        51          51\nunique          17         3          44\ntop     2022-01-01  New York        20.1\nfreq             3        17           2",
      "text/html": "<div>\n<style scoped>\n    .dataframe tbody tr th:only-of-type {\n        vertical-align: middle;\n    }\n\n    .dataframe tbody tr th {\n        vertical-align: top;\n    }\n\n    .dataframe thead th {\n        text-align: right;\n    }\n</style>\n<table border=\"1\" class=\"dataframe\">\n  <thead>\n    <tr style=\"text-align: right;\">\n      <th></th>\n      <th>date</th>\n      <th>city</th>\n      <th>temperature</th>\n    </tr>\n  </thead>\n  <tbody>\n    <tr>\n      <th>count</th>\n      <td>51</td>\n      <td>51</td>\n      <td>51</td>\n    </tr>\n    <tr>\n      <th>unique</th>\n      <td>17</td>\n      <td>3</td>\n      <td>44</td>\n    </tr>\n    <tr>\n      <th>top</th>\n      <td>2022-01-01</td>\n      <td>New York</td>\n      <td>20.1</td>\n    </tr>\n    <tr>\n      <th>freq</th>\n      <td>3</td>\n      <td>17</td>\n      <td>2</td>\n    </tr>\n  </tbody>\n</table>\n</div>"
     },
     "execution_count": 134,
     "metadata": {},
     "output_type": "execute_result"
    }
   ],
   "source": [
    "df.describe()"
   ],
   "metadata": {
    "collapsed": false,
    "pycharm": {
     "name": "#%%\n"
    }
   }
  },
  {
   "cell_type": "markdown",
   "source": [
    "# Part b:\n",
    "Calculate the median temperature for each city."
   ],
   "metadata": {
    "collapsed": false,
    "pycharm": {
     "name": "#%% md\n"
    }
   }
  },
  {
   "cell_type": "markdown",
   "source": [
    "# Solution\n",
    "We calculate medians through function __median()__.\n",
    "__median() :__ This function calculate the median of values."
   ],
   "metadata": {
    "collapsed": false,
    "pycharm": {
     "name": "#%% md\n"
    }
   }
  },
  {
   "cell_type": "code",
   "execution_count": 135,
   "outputs": [],
   "source": [
    "dfNY = df.loc[df['city'] == 'New York']\n",
    "dfLA = df.loc[df['city'] == 'Los Angeles']\n",
    "dfMiami = df.loc[df['city'] == 'Miami']"
   ],
   "metadata": {
    "collapsed": false,
    "pycharm": {
     "name": "#%%\n"
    }
   }
  },
  {
   "cell_type": "code",
   "execution_count": 136,
   "outputs": [
    {
     "name": "stdout",
     "output_type": "stream",
     "text": [
      "temperature    0.5\n",
      "dtype: float64\n",
      "temperature    20.5\n",
      "dtype: float64\n",
      "temperature    22.6\n",
      "dtype: float64\n"
     ]
    },
    {
     "name": "stderr",
     "output_type": "stream",
     "text": [
      "C:\\Users\\Lenovo\\AppData\\Local\\Temp\\ipykernel_7128\\259389216.py:1: FutureWarning: The default value of numeric_only in DataFrame.median is deprecated. In a future version, it will default to False. In addition, specifying 'numeric_only=None' is deprecated. Select only valid columns or specify the value of numeric_only to silence this warning.\n",
      "  print(dfNY.median())\n",
      "C:\\Users\\Lenovo\\AppData\\Local\\Temp\\ipykernel_7128\\259389216.py:2: FutureWarning: The default value of numeric_only in DataFrame.median is deprecated. In a future version, it will default to False. In addition, specifying 'numeric_only=None' is deprecated. Select only valid columns or specify the value of numeric_only to silence this warning.\n",
      "  print(dfLA.median())\n",
      "C:\\Users\\Lenovo\\AppData\\Local\\Temp\\ipykernel_7128\\259389216.py:3: FutureWarning: The default value of numeric_only in DataFrame.median is deprecated. In a future version, it will default to False. In addition, specifying 'numeric_only=None' is deprecated. Select only valid columns or specify the value of numeric_only to silence this warning.\n",
      "  print(dfMiami.median())\n"
     ]
    }
   ],
   "source": [
    "print(dfNY.median())\n",
    "print(dfLA.median())\n",
    "print(dfMiami.median())"
   ],
   "metadata": {
    "collapsed": false,
    "pycharm": {
     "name": "#%%\n"
    }
   }
  },
  {
   "cell_type": "markdown",
   "source": [
    "# Part c:\n",
    "Show the range of temperature in NY and LA and Miami.\n",
    "Also, the maximum and minimum temperature of each city."
   ],
   "metadata": {
    "collapsed": false,
    "pycharm": {
     "name": "#%% md\n"
    }
   }
  },
  {
   "cell_type": "markdown",
   "source": [
    "# Solution\n",
    "We create for each city a data frame and analysis on that."
   ],
   "metadata": {
    "collapsed": false,
    "pycharm": {
     "name": "#%% md\n"
    }
   }
  },
  {
   "cell_type": "code",
   "execution_count": 137,
   "outputs": [
    {
     "data": {
      "text/plain": "          date      city temperature\n0   2022-01-01  New York         0.5\n3   2022-01-02  New York         2.3\n6   2022-01-03  New York         4.8\n9   2022-01-04  New York         3.2\n12  2022-01-05  New York        -1.9\n15  2022-01-06  New York        -2.1\n18  2022-01-07  New York         1.3\n21  2022-01-08  New York         4.2\n24  2022-01-09  New York         5.8\n27  2022-01-10  New York        -1.1\n30  2022-01-11  New York        -4.6\n33  2022-01-12  New York        -7.3\n36  2022-01-13  New York        -2.4\n39  2022-01-14  New York         1.5\n42  2022-01-15  New York         2.1\n45  2022-01-16  New York        -0.9\n48  2022-01-17  New York        -2.7",
      "text/html": "<div>\n<style scoped>\n    .dataframe tbody tr th:only-of-type {\n        vertical-align: middle;\n    }\n\n    .dataframe tbody tr th {\n        vertical-align: top;\n    }\n\n    .dataframe thead th {\n        text-align: right;\n    }\n</style>\n<table border=\"1\" class=\"dataframe\">\n  <thead>\n    <tr style=\"text-align: right;\">\n      <th></th>\n      <th>date</th>\n      <th>city</th>\n      <th>temperature</th>\n    </tr>\n  </thead>\n  <tbody>\n    <tr>\n      <th>0</th>\n      <td>2022-01-01</td>\n      <td>New York</td>\n      <td>0.5</td>\n    </tr>\n    <tr>\n      <th>3</th>\n      <td>2022-01-02</td>\n      <td>New York</td>\n      <td>2.3</td>\n    </tr>\n    <tr>\n      <th>6</th>\n      <td>2022-01-03</td>\n      <td>New York</td>\n      <td>4.8</td>\n    </tr>\n    <tr>\n      <th>9</th>\n      <td>2022-01-04</td>\n      <td>New York</td>\n      <td>3.2</td>\n    </tr>\n    <tr>\n      <th>12</th>\n      <td>2022-01-05</td>\n      <td>New York</td>\n      <td>-1.9</td>\n    </tr>\n    <tr>\n      <th>15</th>\n      <td>2022-01-06</td>\n      <td>New York</td>\n      <td>-2.1</td>\n    </tr>\n    <tr>\n      <th>18</th>\n      <td>2022-01-07</td>\n      <td>New York</td>\n      <td>1.3</td>\n    </tr>\n    <tr>\n      <th>21</th>\n      <td>2022-01-08</td>\n      <td>New York</td>\n      <td>4.2</td>\n    </tr>\n    <tr>\n      <th>24</th>\n      <td>2022-01-09</td>\n      <td>New York</td>\n      <td>5.8</td>\n    </tr>\n    <tr>\n      <th>27</th>\n      <td>2022-01-10</td>\n      <td>New York</td>\n      <td>-1.1</td>\n    </tr>\n    <tr>\n      <th>30</th>\n      <td>2022-01-11</td>\n      <td>New York</td>\n      <td>-4.6</td>\n    </tr>\n    <tr>\n      <th>33</th>\n      <td>2022-01-12</td>\n      <td>New York</td>\n      <td>-7.3</td>\n    </tr>\n    <tr>\n      <th>36</th>\n      <td>2022-01-13</td>\n      <td>New York</td>\n      <td>-2.4</td>\n    </tr>\n    <tr>\n      <th>39</th>\n      <td>2022-01-14</td>\n      <td>New York</td>\n      <td>1.5</td>\n    </tr>\n    <tr>\n      <th>42</th>\n      <td>2022-01-15</td>\n      <td>New York</td>\n      <td>2.1</td>\n    </tr>\n    <tr>\n      <th>45</th>\n      <td>2022-01-16</td>\n      <td>New York</td>\n      <td>-0.9</td>\n    </tr>\n    <tr>\n      <th>48</th>\n      <td>2022-01-17</td>\n      <td>New York</td>\n      <td>-2.7</td>\n    </tr>\n  </tbody>\n</table>\n</div>"
     },
     "execution_count": 137,
     "metadata": {},
     "output_type": "execute_result"
    }
   ],
   "source": [
    "dfNY = df.loc[df['city'] == 'New York']\n",
    "dfNY"
   ],
   "metadata": {
    "collapsed": false,
    "pycharm": {
     "name": "#%%\n"
    }
   }
  },
  {
   "cell_type": "code",
   "execution_count": 138,
   "outputs": [
    {
     "ename": "TypeError",
     "evalue": "no numeric data to plot",
     "output_type": "error",
     "traceback": [
      "\u001B[1;31m---------------------------------------------------------------------------\u001B[0m",
      "\u001B[1;31mTypeError\u001B[0m                                 Traceback (most recent call last)",
      "Cell \u001B[1;32mIn [138], line 1\u001B[0m\n\u001B[1;32m----> 1\u001B[0m \u001B[43mdfNY\u001B[49m\u001B[38;5;241;43m.\u001B[39;49m\u001B[43mplot\u001B[49m\u001B[43m(\u001B[49m\u001B[43mx\u001B[49m\u001B[38;5;241;43m=\u001B[39;49m\u001B[38;5;124;43m'\u001B[39;49m\u001B[38;5;124;43mdate\u001B[39;49m\u001B[38;5;124;43m'\u001B[39;49m\u001B[43m,\u001B[49m\u001B[43m \u001B[49m\u001B[43my\u001B[49m\u001B[38;5;241;43m=\u001B[39;49m\u001B[38;5;124;43m'\u001B[39;49m\u001B[38;5;124;43mtemperature\u001B[39;49m\u001B[38;5;124;43m'\u001B[39;49m\u001B[43m)\u001B[49m\n",
      "File \u001B[1;32m~\\AppData\\Local\\Programs\\Python\\Python311\\Lib\\site-packages\\pandas\\plotting\\_core.py:1000\u001B[0m, in \u001B[0;36mPlotAccessor.__call__\u001B[1;34m(self, *args, **kwargs)\u001B[0m\n\u001B[0;32m    997\u001B[0m             label_name \u001B[38;5;241m=\u001B[39m label_kw \u001B[38;5;129;01mor\u001B[39;00m data\u001B[38;5;241m.\u001B[39mcolumns\n\u001B[0;32m    998\u001B[0m             data\u001B[38;5;241m.\u001B[39mcolumns \u001B[38;5;241m=\u001B[39m label_name\n\u001B[1;32m-> 1000\u001B[0m \u001B[38;5;28;01mreturn\u001B[39;00m \u001B[43mplot_backend\u001B[49m\u001B[38;5;241;43m.\u001B[39;49m\u001B[43mplot\u001B[49m\u001B[43m(\u001B[49m\u001B[43mdata\u001B[49m\u001B[43m,\u001B[49m\u001B[43m \u001B[49m\u001B[43mkind\u001B[49m\u001B[38;5;241;43m=\u001B[39;49m\u001B[43mkind\u001B[49m\u001B[43m,\u001B[49m\u001B[43m \u001B[49m\u001B[38;5;241;43m*\u001B[39;49m\u001B[38;5;241;43m*\u001B[39;49m\u001B[43mkwargs\u001B[49m\u001B[43m)\u001B[49m\n",
      "File \u001B[1;32m~\\AppData\\Local\\Programs\\Python\\Python311\\Lib\\site-packages\\pandas\\plotting\\_matplotlib\\__init__.py:71\u001B[0m, in \u001B[0;36mplot\u001B[1;34m(data, kind, **kwargs)\u001B[0m\n\u001B[0;32m     69\u001B[0m         kwargs[\u001B[38;5;124m\"\u001B[39m\u001B[38;5;124max\u001B[39m\u001B[38;5;124m\"\u001B[39m] \u001B[38;5;241m=\u001B[39m \u001B[38;5;28mgetattr\u001B[39m(ax, \u001B[38;5;124m\"\u001B[39m\u001B[38;5;124mleft_ax\u001B[39m\u001B[38;5;124m\"\u001B[39m, ax)\n\u001B[0;32m     70\u001B[0m plot_obj \u001B[38;5;241m=\u001B[39m PLOT_CLASSES[kind](data, \u001B[38;5;241m*\u001B[39m\u001B[38;5;241m*\u001B[39mkwargs)\n\u001B[1;32m---> 71\u001B[0m \u001B[43mplot_obj\u001B[49m\u001B[38;5;241;43m.\u001B[39;49m\u001B[43mgenerate\u001B[49m\u001B[43m(\u001B[49m\u001B[43m)\u001B[49m\n\u001B[0;32m     72\u001B[0m plot_obj\u001B[38;5;241m.\u001B[39mdraw()\n\u001B[0;32m     73\u001B[0m \u001B[38;5;28;01mreturn\u001B[39;00m plot_obj\u001B[38;5;241m.\u001B[39mresult\n",
      "File \u001B[1;32m~\\AppData\\Local\\Programs\\Python\\Python311\\Lib\\site-packages\\pandas\\plotting\\_matplotlib\\core.py:450\u001B[0m, in \u001B[0;36mMPLPlot.generate\u001B[1;34m(self)\u001B[0m\n\u001B[0;32m    448\u001B[0m \u001B[38;5;28;01mdef\u001B[39;00m \u001B[38;5;21mgenerate\u001B[39m(\u001B[38;5;28mself\u001B[39m) \u001B[38;5;241m-\u001B[39m\u001B[38;5;241m>\u001B[39m \u001B[38;5;28;01mNone\u001B[39;00m:\n\u001B[0;32m    449\u001B[0m     \u001B[38;5;28mself\u001B[39m\u001B[38;5;241m.\u001B[39m_args_adjust()\n\u001B[1;32m--> 450\u001B[0m     \u001B[38;5;28;43mself\u001B[39;49m\u001B[38;5;241;43m.\u001B[39;49m\u001B[43m_compute_plot_data\u001B[49m\u001B[43m(\u001B[49m\u001B[43m)\u001B[49m\n\u001B[0;32m    451\u001B[0m     \u001B[38;5;28mself\u001B[39m\u001B[38;5;241m.\u001B[39m_setup_subplots()\n\u001B[0;32m    452\u001B[0m     \u001B[38;5;28mself\u001B[39m\u001B[38;5;241m.\u001B[39m_make_plot()\n",
      "File \u001B[1;32m~\\AppData\\Local\\Programs\\Python\\Python311\\Lib\\site-packages\\pandas\\plotting\\_matplotlib\\core.py:635\u001B[0m, in \u001B[0;36mMPLPlot._compute_plot_data\u001B[1;34m(self)\u001B[0m\n\u001B[0;32m    633\u001B[0m \u001B[38;5;66;03m# no non-numeric frames or series allowed\u001B[39;00m\n\u001B[0;32m    634\u001B[0m \u001B[38;5;28;01mif\u001B[39;00m is_empty:\n\u001B[1;32m--> 635\u001B[0m     \u001B[38;5;28;01mraise\u001B[39;00m \u001B[38;5;167;01mTypeError\u001B[39;00m(\u001B[38;5;124m\"\u001B[39m\u001B[38;5;124mno numeric data to plot\u001B[39m\u001B[38;5;124m\"\u001B[39m)\n\u001B[0;32m    637\u001B[0m \u001B[38;5;28mself\u001B[39m\u001B[38;5;241m.\u001B[39mdata \u001B[38;5;241m=\u001B[39m numeric_data\u001B[38;5;241m.\u001B[39mapply(\u001B[38;5;28mself\u001B[39m\u001B[38;5;241m.\u001B[39m_convert_to_ndarray)\n",
      "\u001B[1;31mTypeError\u001B[0m: no numeric data to plot"
     ]
    }
   ],
   "source": [
    "dfNY.plot(x='date', y='temperature')"
   ],
   "metadata": {
    "collapsed": false,
    "pycharm": {
     "name": "#%%\n"
    }
   }
  },
  {
   "cell_type": "code",
   "execution_count": null,
   "outputs": [],
   "source": [
    "dfNY.min()"
   ],
   "metadata": {
    "collapsed": false,
    "pycharm": {
     "name": "#%%\n"
    }
   }
  },
  {
   "cell_type": "code",
   "execution_count": null,
   "outputs": [],
   "source": [
    "dfNY.max()"
   ],
   "metadata": {
    "collapsed": false,
    "pycharm": {
     "name": "#%%\n"
    }
   }
  },
  {
   "cell_type": "markdown",
   "source": [
    "So the range of the temperature is between -7.3 and 5.8 in New York.\n",
    "The difference is 13.1."
   ],
   "metadata": {
    "collapsed": false,
    "pycharm": {
     "name": "#%% md\n"
    }
   }
  },
  {
   "cell_type": "code",
   "execution_count": null,
   "outputs": [],
   "source": [
    "dfLA = df.loc[df['city'] == 'Los Angeles']\n",
    "dfLA"
   ],
   "metadata": {
    "collapsed": false,
    "pycharm": {
     "name": "#%%\n"
    }
   }
  },
  {
   "cell_type": "code",
   "execution_count": null,
   "outputs": [],
   "source": [
    "dfLA.plot(x='date', y='temperature')"
   ],
   "metadata": {
    "collapsed": false,
    "pycharm": {
     "name": "#%%\n"
    }
   }
  },
  {
   "cell_type": "code",
   "execution_count": null,
   "outputs": [],
   "source": [
    "dfLA.max()"
   ],
   "metadata": {
    "collapsed": false,
    "pycharm": {
     "name": "#%%\n"
    }
   }
  },
  {
   "cell_type": "code",
   "execution_count": null,
   "outputs": [],
   "source": [
    "dfLA.min()"
   ],
   "metadata": {
    "collapsed": false,
    "pycharm": {
     "name": "#%%\n"
    }
   }
  },
  {
   "cell_type": "markdown",
   "source": [
    "So the range of the temperature is between 15.9 and 24.4 in Los Angeles.\n",
    "The difference is 8.5."
   ],
   "metadata": {
    "collapsed": false,
    "pycharm": {
     "name": "#%% md\n"
    }
   }
  },
  {
   "cell_type": "code",
   "execution_count": null,
   "outputs": [],
   "source": [
    "dfMiami = df.loc[df['city'] == 'Miami']\n",
    "dfMiami"
   ],
   "metadata": {
    "collapsed": false,
    "pycharm": {
     "name": "#%%\n"
    }
   }
  },
  {
   "cell_type": "code",
   "execution_count": null,
   "outputs": [],
   "source": [
    "dfMiami.plot(x='date', y='temperature')"
   ],
   "metadata": {
    "collapsed": false,
    "pycharm": {
     "name": "#%%\n"
    }
   }
  },
  {
   "cell_type": "code",
   "execution_count": null,
   "outputs": [],
   "source": [
    "dfMiami.max()"
   ],
   "metadata": {
    "collapsed": false,
    "pycharm": {
     "name": "#%%\n"
    }
   }
  },
  {
   "cell_type": "code",
   "execution_count": null,
   "outputs": [],
   "source": [
    "dfMiami.min()"
   ],
   "metadata": {
    "collapsed": false,
    "pycharm": {
     "name": "#%%\n"
    }
   }
  },
  {
   "cell_type": "markdown",
   "source": [
    "So the range of the temperature is between 19.7 and 25.8 in Miami.\n",
    "The difference is 6.1."
   ],
   "metadata": {
    "collapsed": false,
    "pycharm": {
     "name": "#%% md\n"
    }
   }
  },
  {
   "cell_type": "code",
   "execution_count": null,
   "outputs": [],
   "source": [],
   "metadata": {
    "collapsed": false,
    "pycharm": {
     "name": "#%%\n"
    }
   }
  }
 ],
 "metadata": {
  "kernelspec": {
   "display_name": "Python 3",
   "language": "python",
   "name": "python3"
  },
  "language_info": {
   "codemirror_mode": {
    "name": "ipython",
    "version": 2
   },
   "file_extension": ".py",
   "mimetype": "text/x-python",
   "name": "python",
   "nbconvert_exporter": "python",
   "pygments_lexer": "ipython2",
   "version": "2.7.6"
  }
 },
 "nbformat": 4,
 "nbformat_minor": 0
}