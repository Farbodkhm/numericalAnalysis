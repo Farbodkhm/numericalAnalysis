{
 "cells": [
  {
   "cell_type": "code",
   "execution_count": 18,
   "outputs": [],
   "source": [
    "# This code is developed by Pooyan :D"
   ],
   "metadata": {
    "collapsed": false,
    "pycharm": {
     "name": "#%%\n"
    }
   }
  },
  {
   "cell_type": "markdown",
   "source": [
    "# Assignment Tittle\n",
    "__Author__ : Pooyan oskouhi 400222003\n",
    "__Course__ : Undergraduate Numerical Analysis Course"
   ],
   "metadata": {
    "collapsed": false,
    "pycharm": {
     "name": "#%% md\n"
    }
   }
  },
  {
   "cell_type": "code",
   "execution_count": 19,
   "outputs": [],
   "source": [
    "from sympy import *\n",
    "init_printing(use_unicode=True)"
   ],
   "metadata": {
    "collapsed": false,
    "pycharm": {
     "name": "#%%\n"
    }
   }
  },
  {
   "cell_type": "code",
   "execution_count": 20,
   "outputs": [],
   "source": [
    "x = symbols('x')"
   ],
   "metadata": {
    "collapsed": false,
    "pycharm": {
     "name": "#%%\n"
    }
   }
  },
  {
   "cell_type": "markdown",
   "source": [
    "# Problem1\n",
    "Finding the derivative of functions by sympy.\n",
    "__a :__ $f(x) = x^3 - 2x^2 + 5x -7$\n",
    "__b :__ $g(x) = 1/(x^2 + 1)$\n",
    "__c :__ $h(x) = e^2^x cos(x)$"
   ],
   "metadata": {
    "collapsed": false,
    "pycharm": {
     "name": "#%% md\n"
    }
   }
  },
  {
   "cell_type": "markdown",
   "source": [
    "# Solution\n",
    "We use the function __diff__ from __Sympy__.\n",
    "__diff :__  This function calculates the derivative of functions."
   ],
   "metadata": {
    "collapsed": false,
    "pycharm": {
     "name": "#%% md\n"
    }
   }
  },
  {
   "cell_type": "markdown",
   "source": [
    "# Part a)"
   ],
   "metadata": {
    "collapsed": false,
    "pycharm": {
     "name": "#%% md\n"
    }
   }
  },
  {
   "cell_type": "code",
   "execution_count": 21,
   "outputs": [
    {
     "name": "stdout",
     "output_type": "stream",
     "text": [
      "3*x**2 - 4*x + 5\n"
     ]
    }
   ],
   "source": [
    "print(diff(x**3 - 2*(x**2) + 5*x - 7))"
   ],
   "metadata": {
    "collapsed": false,
    "pycharm": {
     "name": "#%%\n"
    }
   }
  },
  {
   "cell_type": "markdown",
   "source": [
    "# Part b)"
   ],
   "metadata": {
    "collapsed": false,
    "pycharm": {
     "name": "#%% md\n"
    }
   }
  },
  {
   "cell_type": "code",
   "execution_count": 22,
   "outputs": [
    {
     "name": "stdout",
     "output_type": "stream",
     "text": [
      "-2*x/(x**2 + 1)**2\n"
     ]
    }
   ],
   "source": [
    "print(diff(1/(x**2 + 1)))"
   ],
   "metadata": {
    "collapsed": false,
    "pycharm": {
     "name": "#%%\n"
    }
   }
  },
  {
   "cell_type": "markdown",
   "source": [
    "# Part c)"
   ],
   "metadata": {
    "collapsed": false,
    "pycharm": {
     "name": "#%% md\n"
    }
   }
  },
  {
   "cell_type": "code",
   "execution_count": 23,
   "outputs": [
    {
     "name": "stdout",
     "output_type": "stream",
     "text": [
      "-exp(2*x)*sin(x) + 2*exp(2*x)*cos(x)\n"
     ]
    }
   ],
   "source": [
    "print(diff(exp(2*x) * cos(x)))"
   ],
   "metadata": {
    "collapsed": false,
    "pycharm": {
     "name": "#%%\n"
    }
   }
  },
  {
   "cell_type": "markdown",
   "source": [
    "# Problem 2\n",
    "Finding the indefinite integral.\n",
    "__a :__ $f(x) = 2x + 5$\n",
    "__b :__ $g(x) = 1/(x^2 + 1)$\n",
    "__c :__ $h(x) = x^3/3 - 2x^2 + 5x - 7$"
   ],
   "metadata": {
    "collapsed": false,
    "pycharm": {
     "name": "#%% md\n"
    }
   }
  },
  {
   "cell_type": "markdown",
   "source": [
    "# Solution\n",
    "We use the function __integrate__ from __Sympy__.\n",
    "__integrate :__ This function calculates the integrated functions."
   ],
   "metadata": {
    "collapsed": false,
    "pycharm": {
     "name": "#%% md\n"
    }
   }
  },
  {
   "cell_type": "markdown",
   "source": [
    "# Part a)"
   ],
   "metadata": {
    "collapsed": false,
    "pycharm": {
     "name": "#%% md\n"
    }
   }
  },
  {
   "cell_type": "code",
   "execution_count": 24,
   "outputs": [
    {
     "name": "stdout",
     "output_type": "stream",
     "text": [
      "x**2 + 5*x\n"
     ]
    }
   ],
   "source": [
    "print(integrate(2*x + 5))"
   ],
   "metadata": {
    "collapsed": false,
    "pycharm": {
     "name": "#%%\n"
    }
   }
  },
  {
   "cell_type": "markdown",
   "source": [
    "# Part b)"
   ],
   "metadata": {
    "collapsed": false,
    "pycharm": {
     "name": "#%% md\n"
    }
   }
  },
  {
   "cell_type": "code",
   "execution_count": 25,
   "outputs": [
    {
     "name": "stdout",
     "output_type": "stream",
     "text": [
      "atan(x)\n"
     ]
    }
   ],
   "source": [
    "print(integrate(1/(x**2 + 1)))"
   ],
   "metadata": {
    "collapsed": false,
    "pycharm": {
     "name": "#%%\n"
    }
   }
  },
  {
   "cell_type": "markdown",
   "source": [
    "# Part c)"
   ],
   "metadata": {
    "collapsed": false,
    "pycharm": {
     "name": "#%% md\n"
    }
   }
  },
  {
   "cell_type": "code",
   "execution_count": 26,
   "outputs": [
    {
     "name": "stdout",
     "output_type": "stream",
     "text": [
      "x**4/12 - 2*x**3/3 + 5*x**2/2 - 7*x\n"
     ]
    }
   ],
   "source": [
    "print(integrate((x**3)/3 - 2*x**2 + 5*x - 7))"
   ],
   "metadata": {
    "collapsed": false,
    "pycharm": {
     "name": "#%%\n"
    }
   }
  },
  {
   "cell_type": "markdown",
   "source": [
    "# Problem 3\n",
    "Solve Equations.\n",
    "__a :__ $x^2 - 3x + 2 = 0$\n",
    "__b :__ $e^x + x - 1 = 0$\n",
    "__c :__ $cos(x) = 1/2$"
   ],
   "metadata": {
    "collapsed": false,
    "pycharm": {
     "name": "#%% md\n"
    }
   }
  },
  {
   "cell_type": "markdown",
   "source": [
    "# Solution\n",
    "We use the function __Eq__ and __Solve__ from __Sympy__.\n",
    "__Eq :__ By this function we show the equation.\n",
    "__Solve :__ This function solve the equations."
   ],
   "metadata": {
    "collapsed": false,
    "pycharm": {
     "name": "#%% md\n"
    }
   }
  },
  {
   "cell_type": "code",
   "execution_count": 27,
   "outputs": [
    {
     "data": {
      "text/plain": "[1, 2]",
      "image/png": "[encoded data removed]",
      "text/latex": "$\\displaystyle \\left[ 1, \\  2\\right]$"
     },
     "execution_count": 27,
     "metadata": {},
     "output_type": "execute_result"
    }
   ],
   "source": [
    "solve(Eq((x**2 - 3*x + 2), 0))"
   ],
   "metadata": {
    "collapsed": false,
    "pycharm": {
     "name": "#%%\n"
    }
   }
  },
  {
   "cell_type": "code",
   "execution_count": 28,
   "outputs": [
    {
     "data": {
      "text/plain": "[0]",
      "image/png": "[encoded data removed]",
      "text/latex": "$\\displaystyle \\left[ 0\\right]$"
     },
     "execution_count": 28,
     "metadata": {},
     "output_type": "execute_result"
    }
   ],
   "source": [
    "solve(Eq((exp(x) + x - 1), 0))"
   ],
   "metadata": {
    "collapsed": false,
    "pycharm": {
     "name": "#%%\n"
    }
   }
  },
  {
   "cell_type": "code",
   "execution_count": 29,
   "outputs": [
    {
     "data": {
      "text/plain": "[1.0471975511966, 5.23598775598299]",
      "image/png": "[encoded data removed]",
      "text/latex": "$\\displaystyle \\left[ 1.0471975511966, \\  5.23598775598299\\right]$"
     },
     "execution_count": 29,
     "metadata": {},
     "output_type": "execute_result"
    }
   ],
   "source": [
    "solve(Eq((cos(x)), 1/2))"
   ],
   "metadata": {
    "collapsed": false,
    "pycharm": {
     "name": "#%%\n"
    }
   }
  },
  {
   "cell_type": "markdown",
   "source": [
    "# Problem 4\n",
    "Finding 10 terms of Fourier series."
   ],
   "metadata": {
    "collapsed": false,
    "pycharm": {
     "name": "#%% md\n"
    }
   }
  },
  {
   "cell_type": "markdown",
   "source": [
    "# Solution\n",
    "We use the function __fourier_series__ from __Sympy__.\n",
    "__fourier_series :__ This function calculates the fourier series."
   ],
   "metadata": {
    "collapsed": false,
    "pycharm": {
     "name": "#%% md\n"
    }
   }
  },
  {
   "cell_type": "code",
   "execution_count": 30,
   "outputs": [
    {
     "data": {
      "text/plain": "⎧0  for x ≥ -π ∧ x < 0\n⎨                     \n⎩1  for x ≥ 0 ∧ x < π ",
      "text/latex": "$\\displaystyle \\begin{cases} 0 & \\text{for}\\: x \\geq - \\pi \\wedge x < 0 \\\\1 & \\text{for}\\: x \\geq 0 \\wedge x < \\pi \\end{cases}$"
     },
     "execution_count": 30,
     "metadata": {},
     "output_type": "execute_result"
    }
   ],
   "source": [
    "s= Piecewise(\n",
    "    (0, x < 0 ),\n",
    "    (0, x >= -1*pi),\n",
    "    (1,x>=0),\n",
    "    (1,x<pi)\n",
    ")\n",
    "f = Piecewise((0, (x >= -pi) & (x < 0)), (1, (x >= 0) & (x < pi)))\n",
    "f"
   ],
   "metadata": {
    "collapsed": false,
    "pycharm": {
     "name": "#%%\n"
    }
   }
  },
  {
   "cell_type": "code",
   "execution_count": 31,
   "outputs": [
    {
     "data": {
      "text/plain": "2⋅sin(x)   2⋅sin(3⋅x)   2⋅sin(5⋅x)   2⋅sin(7⋅x)   2⋅sin(9⋅x)   2⋅sin(11⋅x)   2\n──────── + ────────── + ────────── + ────────── + ────────── + ─────────── + ─\n   π          3⋅π          5⋅π          7⋅π          9⋅π           11⋅π       \n\n⋅sin(13⋅x)   2⋅sin(15⋅x)   2⋅sin(17⋅x)   1\n────────── + ─────────── + ─────────── + ─\n   13⋅π          15⋅π          17⋅π      2",
      "image/png": "[encoded data removed]",
      "text/latex": "$\\displaystyle \\frac{2 \\sin{\\left(x \\right)}}{\\pi} + \\frac{2 \\sin{\\left(3 x \\right)}}{3 \\pi} + \\frac{2 \\sin{\\left(5 x \\right)}}{5 \\pi} + \\frac{2 \\sin{\\left(7 x \\right)}}{7 \\pi} + \\frac{2 \\sin{\\left(9 x \\right)}}{9 \\pi} + \\frac{2 \\sin{\\left(11 x \\right)}}{11 \\pi} + \\frac{2 \\sin{\\left(13 x \\right)}}{13 \\pi} + \\frac{2 \\sin{\\left(15 x \\right)}}{15 \\pi} + \\frac{2 \\sin{\\left(17 x \\right)}}{17 \\pi} + \\frac{1}{2}$"
     },
     "execution_count": 31,
     "metadata": {},
     "output_type": "execute_result"
    }
   ],
   "source": [
    "s = fourier_series(f, (x, -pi, pi)).truncate(10)\n",
    "s"
   ],
   "metadata": {
    "collapsed": false,
    "pycharm": {
     "name": "#%%\n"
    }
   }
  },
  {
   "cell_type": "markdown",
   "source": [
    "# Problem 5\n",
    "Find velocity and acceleration from function $x = 3sin(t) - 4sin(2t)$.\n"
   ],
   "metadata": {
    "collapsed": false,
    "pycharm": {
     "name": "#%% md\n"
    }
   }
  },
  {
   "cell_type": "markdown",
   "source": [
    "# Solution\n",
    "The __velocity__ formula is obtained from the __derivative__ of the __space-time__ formula.\n",
    "For this we use __diff__ from __Sympy__."
   ],
   "metadata": {
    "collapsed": false,
    "pycharm": {
     "name": "#%% md\n"
    }
   }
  },
  {
   "cell_type": "code",
   "execution_count": 32,
   "outputs": [
    {
     "name": "stdout",
     "output_type": "stream",
     "text": [
      "velocity = 3*cos(t) - 8*cos(2*t)\n"
     ]
    }
   ],
   "source": [
    "t = symbols('t')\n",
    "velocity = diff(3*sin(t) - 4*sin(2*t))\n",
    "print('velocity =', velocity)"
   ],
   "metadata": {
    "collapsed": false,
    "pycharm": {
     "name": "#%%\n"
    }
   }
  },
  {
   "cell_type": "markdown",
   "source": [
    "The __acceleration__ formula is obtained from the __derivative__ of the __time-velocity__ formula.\n",
    "For this we use __diff__ from __Sympy__."
   ],
   "metadata": {
    "collapsed": false,
    "pycharm": {
     "name": "#%% md\n"
    }
   }
  },
  {
   "cell_type": "code",
   "execution_count": 33,
   "outputs": [
    {
     "name": "stdout",
     "output_type": "stream",
     "text": [
      "acceleration = -3*sin(t) + 16*sin(2*t)\n"
     ]
    }
   ],
   "source": [
    "acceleration = diff(velocity)\n",
    "print('acceleration =', acceleration)"
   ],
   "metadata": {
    "collapsed": false,
    "pycharm": {
     "name": "#%%\n"
    }
   }
  },
  {
   "cell_type": "code",
   "execution_count": 34,
   "outputs": [],
   "source": [
    "# Hope you like it ;)"
   ],
   "metadata": {
    "collapsed": false,
    "pycharm": {
     "name": "#%%\n"
    }
   }
  }
 ],
 "metadata": {
  "kernelspec": {
   "display_name": "Python 3",
   "language": "python",
   "name": "python3"
  },
  "language_info": {
   "codemirror_mode": {
    "name": "ipython",
    "version": 2
   },
   "file_extension": ".py",
   "mimetype": "text/x-python",
   "name": "python",
   "nbconvert_exporter": "python",
   "pygments_lexer": "ipython2",
   "version": "2.7.6"
  }
 },
 "nbformat": 4,
 "nbformat_minor": 0
}